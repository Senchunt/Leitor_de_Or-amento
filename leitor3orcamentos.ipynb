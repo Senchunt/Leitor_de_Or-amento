print('Leitor de Orçamentos')
empresa1 = input('Digite nome da empresa: ')
orcamento1 = float(input('Digite o seu orçamento: '))
empresa2 = input('Digite o nome da segunda empresa: ')
orcamento2 = float(input('Digite o orçamento da segunda empresa: '))
empresa3 = input('Digite o nome da terceira empresa: ')
orcamento3 = float(input('Digite o orçamento da terceira empresa: '))

print(f'--Resultado--')
print(f'{empresa1} R$ {orcamento1:.2f}')
print(f'{empresa2} R$ {orcamento2:.2f}')
print(f'{empresa3} R$ {orcamento3:.2f}\n')

## Condição de maior orçamento
if orcamento1 > orcamento2 and orcamento1 > orcamento3:
    print(f'O maior orçamento é da empresa {empresa1} com o valor de R$ {orcamento1:.2f} no ano')
elif orcamento2 > orcamento1 and orcamento2 > orcamento3:
    print(f'O maior orçamento é da empresa {empresa2} com o valor de R$ {orcamento2:.2f} no ano')
elif orcamento3 > orcamento1 and orcamento3 > orcamento2:
    print(f'O maior orçamento é da empresa {empresa3} com o valor de R$ {orcamento3:.2f} no ano')
elif orcamento1 == orcamento2 and orcamento1 > orcamento3:
    print(f'As empresas {empresa1} e {empresa2} têm o mesmo orçamento: R$ {orcamento1:.2f}\n portanto houve um empate.')
elif orcamento1 == orcamento3 and orcamento1 > orcamento2:
    print(f'As empresas {empresa1} e {empresa3} têm o mesmo orçamento: R$ {orcamento1:.2f}\n portanto houve um empate.')
elif orcamento2 == orcamento3 and orcamento2 > orcamento1:
    print(f'As empresas {empresa2} e {empresa3} têm o mesmo orçamento: R$ {orcamento2:.2f}\n portanto houve um empate.')
elif orcamento1 == orcamento2 and orcamento2 == orcamento3:
    print(f'As empresas {empresa1}, {empresa2} e {empresa3} têm o mesmo orçamento: R$ {orcamento1:.2f}\n portanto houve um empate.')
else:
    print('Nenhuma empresa foi digitada ou os valores são inválidos.')

## Condição de menor orçamento
if orcamento1 < orcamento2 and orcamento1 < orcamento3:
    print(f'O menor orçamento é da empresa {empresa1} com o valor de R$ {orcamento1:.2f} no ano')
elif orcamento2 < orcamento1 and orcamento2 < orcamento3:
    print(f'O menor orçamento é da empresa {empresa2} com o valor de R$ {orcamento2:.2f} no ano')
elif orcamento3 < orcamento1 and orcamento3 < orcamento2:
    print(f'O menor orçamento é da empresa {empresa3} com o valor de R$ {orcamento3:.2f} no ano')
elif orcamento1 == orcamento2 and orcamento1 < orcamento3:
    print(f'As empresas {empresa1} e {empresa2} têm o mesmo orçamento: R$ {orcamento1:.2f}\n portanto houve um empate.')
elif orcamento1 == orcamento3 and orcamento1 < orcamento2:
    print(f'As empresas {empresa1} e {empresa3} têm o mesmo orçamento: R$ {orcamento1:.2f}\n portanto houve um empate.')
elif orcamento2 == orcamento3 and orcamento2 < orcamento1:
    print(f'As empresas {empresa2} e {empresa3} têm o mesmo orçamento: R$ {orcamento2:.2f}\n portanto houve um empate.')
elif orcamento1 == orcamento2 and orcamento2 == orcamento3:
    print(f'As empresas {empresa1}, {empresa2} e {empresa3} têm o mesmo orçamento: R$ {orcamento1:.2f}\n portanto houve um empate.')
else:
    print('Nenhuma empresa foi digitada ou os valores são inválidos.')

## Condição de opções inválidas
if orcamento1 < 0 or orcamento2 < 0 or orcamento3 < 0:
    print('Orçamento inválido, favor digite um valor positivo para o orçamento.')
if empresa1 == '' or empresa2 == '' or empresa3 == '':
    print('Nenhuma empresa foi digitada, favor digite o nome da empresa.')
